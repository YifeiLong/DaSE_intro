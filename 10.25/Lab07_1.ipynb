{
 "cells": [
  {
   "cell_type": "code",
   "execution_count": 1,
   "id": "1677cbb9",
   "metadata": {},
   "outputs": [],
   "source": [
    "import matplotlib.pyplot as plt\n",
    "import pandas as pd\n",
    "import numpy as np\n",
    "\n",
    "# data = pd.read_csv(\"D:/intro/DaSE_intro/daily_KP_SUN_2020.csv\",skiprows = 2,usecols = [1, 3]) #usecols:读取第几列\n",
    "\n",
    "month = np.arange(1, 10) #月份坐标\n",
    "day = np.array([31, 29, 31, 30, 31, 30, 31, 31, 30]) #每月天数\n",
    "total = np.zeros(9) #每个月日照总时长\n",
    "average = np.empty(9) #空数组，每个月平均日照时长\n",
    "\n",
    "with open('D:/intro/DaSE_intro/daily_KP_SUN_2020.csv', 'r', encoding = 'utf-8') as f:\n",
    "    for _ in range(3): #跳过标题列名等前三行内容\n",
    "        f.readline()\n",
    "    for line in f:\n",
    "        line = line.strip() #移除字符串头尾指定的字符（默认为空格或换行符）或字符序列\n",
    "        data = line.split(',') #通过指定分隔符对字符串进行切片，如果参数 num 有指定值，则分隔 num+1 个子字符串\n",
    "        total[int(data[1]) - 1] += float(data[3]) #数组下标和月份差1\n",
    "average = total / day #数组间直接运算"
   ]
  },
  {
   "cell_type": "code",
   "execution_count": 2,
   "id": "10fd3e65",
   "metadata": {},
   "outputs": [
    {
     "data": {
      "image/png": "[encoded data removed]",
      "text/plain": [
       "<Figure size 432x288 with 2 Axes>"
      ]
     },
     "metadata": {
      "needs_background": "light"
     },
     "output_type": "display_data"
    }
   ],
   "source": [
    "plt.subplot(211)\n",
    "plt.title(\"Total Bright Sunshine\")\n",
    "plt.xlabel(\"month\")\n",
    "plt.ylabel(\"hours\")\n",
    "plt.bar(month, total, color = 'green')\n",
    "\n",
    "plt.subplot(212)\n",
    "plt.title(\"Average Bright Sunshine\")\n",
    "plt.xlabel(\"month\")\n",
    "plt.ylabel(\"hours\")\n",
    "plt.bar(month, total, color = 'blue')\n",
    "\n",
    "plt.subplots_adjust(hspace = 0.6) #子图间隔\n",
    "plt.show()"
   ]
  }
 ],
 "metadata": {
  "kernelspec": {
   "display_name": "Python 3 (ipykernel)",
   "language": "python",
   "name": "python3"
  },
  "language_info": {
   "codemirror_mode": {
    "name": "ipython",
    "version": 3
   },
   "file_extension": ".py",
   "mimetype": "text/x-python",
   "name": "python",
   "nbconvert_exporter": "python",
   "pygments_lexer": "ipython3",
   "version": "3.9.12"
  }
 },
 "nbformat": 4,
 "nbformat_minor": 5
}
