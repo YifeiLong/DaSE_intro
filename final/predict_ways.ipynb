{
 "cells": [
  {
   "cell_type": "code",
   "execution_count": 1,
   "id": "365d5ef7",
   "metadata": {},
   "outputs": [],
   "source": [
    "import pandas as pd\n",
    "import numpy as np\n",
    "import seaborn as sns\n",
    "import matplotlib.pyplot as plt\n",
    "import string, os\n",
    "import nltk\n",
    "import re\n",
    "import keras\n",
    "import random\n",
    "import io\n",
    "from keras.utils import np_utils\n",
    "from keras.models import Sequential\n",
    "from keras.layers import LSTM, Dense, Dropout\n",
    "from keras.optimizers import Adamax\n",
    "import sys\n",
    "from PIL import Image\n",
    "from wordcloud import WordCloud, STOPWORDS, ImageColorGenerator\n",
    "from PIL import Image, ImageDraw, ImageFont\n",
    "import pickle\n",
    "import warnings\n",
    "warnings.filterwarnings(\"ignore\")"
   ]
  },
  {
   "cell_type": "markdown",
   "id": "736ae21b",
   "metadata": {},
   "source": [
    "# 并不成功的歌词预测\n",
    "\n",
    "## RNN"
   ]
  },
  {
   "cell_type": "code",
   "execution_count": 2,
   "id": "c2d061ba",
   "metadata": {},
   "outputs": [
    {
     "data": {
      "text/html": [
       "<div>\n",
       "<style scoped>\n",
       "    .dataframe tbody tr th:only-of-type {\n",
       "        vertical-align: middle;\n",
       "    }\n",
       "\n",
       "    .dataframe tbody tr th {\n",
       "        vertical-align: top;\n",
       "    }\n",
       "\n",
       "    .dataframe thead th {\n",
       "        text-align: right;\n",
       "    }\n",
       "</style>\n",
       "<table border=\"1\" class=\"dataframe\">\n",
       "  <thead>\n",
       "    <tr style=\"text-align: right;\">\n",
       "      <th></th>\n",
       "      <th>album_name</th>\n",
       "      <th>track_title</th>\n",
       "      <th>track_n</th>\n",
       "      <th>lyric</th>\n",
       "      <th>line</th>\n",
       "    </tr>\n",
       "  </thead>\n",
       "  <tbody>\n",
       "    <tr>\n",
       "      <th>0</th>\n",
       "      <td>Fearless (Taylor’s Version)</td>\n",
       "      <td>Fearless (Taylor’s Version)</td>\n",
       "      <td>1</td>\n",
       "      <td>There's something 'bout the way</td>\n",
       "      <td>1</td>\n",
       "    </tr>\n",
       "    <tr>\n",
       "      <th>1</th>\n",
       "      <td>Fearless (Taylor’s Version)</td>\n",
       "      <td>Fearless (Taylor’s Version)</td>\n",
       "      <td>1</td>\n",
       "      <td>The street looks when it's just rained</td>\n",
       "      <td>2</td>\n",
       "    </tr>\n",
       "    <tr>\n",
       "      <th>2</th>\n",
       "      <td>Fearless (Taylor’s Version)</td>\n",
       "      <td>Fearless (Taylor’s Version)</td>\n",
       "      <td>1</td>\n",
       "      <td>There's a glow off the pavement, you walk me t...</td>\n",
       "      <td>3</td>\n",
       "    </tr>\n",
       "    <tr>\n",
       "      <th>3</th>\n",
       "      <td>Fearless (Taylor’s Version)</td>\n",
       "      <td>Fearless (Taylor’s Version)</td>\n",
       "      <td>1</td>\n",
       "      <td>And you know I wanna ask you to dance right there</td>\n",
       "      <td>4</td>\n",
       "    </tr>\n",
       "    <tr>\n",
       "      <th>4</th>\n",
       "      <td>Fearless (Taylor’s Version)</td>\n",
       "      <td>Fearless (Taylor’s Version)</td>\n",
       "      <td>1</td>\n",
       "      <td>In the middle of the parking lot, yeah</td>\n",
       "      <td>5</td>\n",
       "    </tr>\n",
       "    <tr>\n",
       "      <th>...</th>\n",
       "      <td>...</td>\n",
       "      <td>...</td>\n",
       "      <td>...</td>\n",
       "      <td>...</td>\n",
       "      <td>...</td>\n",
       "    </tr>\n",
       "    <tr>\n",
       "      <th>9365</th>\n",
       "      <td>Speak Now (Deluxe)</td>\n",
       "      <td>Superman</td>\n",
       "      <td>17</td>\n",
       "      <td>I'll be right here on the ground</td>\n",
       "      <td>51</td>\n",
       "    </tr>\n",
       "    <tr>\n",
       "      <th>9366</th>\n",
       "      <td>Speak Now (Deluxe)</td>\n",
       "      <td>Superman</td>\n",
       "      <td>17</td>\n",
       "      <td>When you come back down</td>\n",
       "      <td>52</td>\n",
       "    </tr>\n",
       "    <tr>\n",
       "      <th>9367</th>\n",
       "      <td>Speak Now (Deluxe)</td>\n",
       "      <td>Superman</td>\n",
       "      <td>17</td>\n",
       "      <td>La, la, la, la, la, la</td>\n",
       "      <td>53</td>\n",
       "    </tr>\n",
       "    <tr>\n",
       "      <th>9368</th>\n",
       "      <td>Speak Now (Deluxe)</td>\n",
       "      <td>Superman</td>\n",
       "      <td>17</td>\n",
       "      <td>La, la, la, la, la, la</td>\n",
       "      <td>54</td>\n",
       "    </tr>\n",
       "    <tr>\n",
       "      <th>9369</th>\n",
       "      <td>Speak Now (Deluxe)</td>\n",
       "      <td>Superman</td>\n",
       "      <td>17</td>\n",
       "      <td>When you come back down</td>\n",
       "      <td>55</td>\n",
       "    </tr>\n",
       "  </tbody>\n",
       "</table>\n",
       "<p>9370 rows × 5 columns</p>\n",
       "</div>"
      ],
      "text/plain": [
       "                       album_name                  track_title  track_n  \\\n",
       "0     Fearless (Taylor’s Version)  Fearless (Taylor’s Version)        1   \n",
       "1     Fearless (Taylor’s Version)  Fearless (Taylor’s Version)        1   \n",
       "2     Fearless (Taylor’s Version)  Fearless (Taylor’s Version)        1   \n",
       "3     Fearless (Taylor’s Version)  Fearless (Taylor’s Version)        1   \n",
       "4     Fearless (Taylor’s Version)  Fearless (Taylor’s Version)        1   \n",
       "...                           ...                          ...      ...   \n",
       "9365           Speak Now (Deluxe)                     Superman       17   \n",
       "9366           Speak Now (Deluxe)                     Superman       17   \n",
       "9367           Speak Now (Deluxe)                     Superman       17   \n",
       "9368           Speak Now (Deluxe)                     Superman       17   \n",
       "9369           Speak Now (Deluxe)                     Superman       17   \n",
       "\n",
       "                                                  lyric  line  \n",
       "0                       There's something 'bout the way     1  \n",
       "1                The street looks when it's just rained     2  \n",
       "2     There's a glow off the pavement, you walk me t...     3  \n",
       "3     And you know I wanna ask you to dance right there     4  \n",
       "4                In the middle of the parking lot, yeah     5  \n",
       "...                                                 ...   ...  \n",
       "9365                   I'll be right here on the ground    51  \n",
       "9366                            When you come back down    52  \n",
       "9367                             La, la, la, la, la, la    53  \n",
       "9368                             La, la, la, la, la, la    54  \n",
       "9369                            When you come back down    55  \n",
       "\n",
       "[9370 rows x 5 columns]"
      ]
     },
     "execution_count": 2,
     "metadata": {},
     "output_type": "execute_result"
    }
   ],
   "source": [
    "dataset = pd.read_csv(\"D:/intro/DaSE_intro/final/lyrics/lyrics_2006-2022.csv\", encoding = 'utf-8')\n",
    "\n",
    "def album_year(row):\n",
    "    if row['album_name'] == 'Taylor Swift':\n",
    "        return '2006'\n",
    "    elif row['album_name'] == 'Fearless (Taylor’s Version)':\n",
    "        return '2008'\n",
    "    elif row['album_name'] == 'Speak Now (Deluxe)':\n",
    "        return '2010'\n",
    "    elif row['album_name'] == 'Red (Deluxe Edition)':\n",
    "        return '2012'\n",
    "    elif row['album_name'] == '1989 (Deluxe)':\n",
    "        return '2014'\n",
    "    elif row['album_name'] == 'reputation':\n",
    "        return '2017'\n",
    "    elif row['album_name'] == 'Lover':\n",
    "        return '2019'\n",
    "    elif row['album_name'] == 'evermore (deluxe version)':\n",
    "        return '2020'\n",
    "    elif row['album_name'] == 'folklore (deluxe version)':\n",
    "        return '2021' #与上一张专辑年份稍微区分一下，方便画图好看\n",
    "    elif row['album_name'] == 'midnights (3am edition)'or row['album_name'] == 'midnights':\n",
    "        return '2022'\n",
    "    return 'No Date' #其他错误情况\n",
    "dataset"
   ]
  },
  {
   "cell_type": "code",
   "execution_count": 3,
   "id": "e4ac9f12",
   "metadata": {},
   "outputs": [
    {
     "name": "stdout",
     "output_type": "stream",
     "text": [
      "number of unique characters: 67\n",
      "unique characters: [' ', '!', '\"', '&', \"'\", '(', ')', ',', '-', '.', '0', '1', '2', '3', '4', '5', '6', '7', '8', '9', ':', ';', '?', '[', ']', 'a', 'b', 'c', 'd', 'e', 'f', 'g', 'h', 'i', 'j', 'k', 'l', 'm', 'n', 'o', 'p', 'q', 'r', 's', 't', 'u', 'v', 'w', 'x', 'y', 'z', '|', '\\xa0', 'é', 'í', 'ï', 'ó', 'е', '\\u2005', '\\u200b', '–', '—', '‘', '’', '”', '…', '\\u205f']\n"
     ]
    }
   ],
   "source": [
    "corpus = ''\n",
    "for item in dataset['lyric']:\n",
    "    corpus += item\n",
    "\n",
    "corpus = corpus.lower()\n",
    "print(\"number of unique characters:\", len(set(corpus)))\n",
    "print(\"unique characters:\", sorted(set(corpus)))"
   ]
  },
  {
   "cell_type": "code",
   "execution_count": 4,
   "id": "2b15bcf2",
   "metadata": {},
   "outputs": [
    {
     "name": "stdout",
     "output_type": "stream",
     "text": [
      "unique characters: [' ', ',', '.', '0', '1', '2', '3', '4', '5', '6', '7', '8', '9', ':', ';', 'a', 'b', 'c', 'd', 'e', 'f', 'g', 'h', 'i', 'j', 'k', 'l', 'm', 'n', 'o', 'p', 'q', 'r', 's', 't', 'u', 'v', 'w', 'x', 'y', 'z']\n"
     ]
    }
   ],
   "source": [
    "remove = ['!', '\"', '&', \"'\", '(', ')', '-','?', '[', ']','|', '\\xa0', 'é', 'í', 'ï', 'ó', 'е', \n",
    "          '\\u2005', '\\u200b', '–', '—', '‘', '’', '”', '…', '\\u205f']\n",
    "\n",
    "for symbol in remove:\n",
    "    corpus = corpus.replace(symbol, \" \")\n",
    "\n",
    "print(\"unique characters:\", sorted(set(corpus)))"
   ]
  },
  {
   "cell_type": "code",
   "execution_count": 5,
   "id": "a3f31646",
   "metadata": {},
   "outputs": [
    {
     "name": "stdout",
     "output_type": "stream",
     "text": [
      "total number of characters: 321460\n",
      "number of unique characters: 41\n"
     ]
    }
   ],
   "source": [
    "symbol = sorted(list(set(corpus)))\n",
    "corpus_len = len(corpus)\n",
    "symbol_len = len(symbol)\n",
    "\n",
    "# enumerate：遍历，返回编号和元素，编号从0开始\n",
    "# 字符和数字之间的一一对应\n",
    "mapping = dict((c, i) for i, c in enumerate(symbol))\n",
    "reverse_mapping = dict((i, c) for i, c in enumerate(symbol))\n",
    "\n",
    "print(\"total number of characters:\", corpus_len)\n",
    "print(\"number of unique characters:\", symbol_len)"
   ]
  },
  {
   "cell_type": "code",
   "execution_count": 6,
   "id": "5be5dd2c",
   "metadata": {},
   "outputs": [
    {
     "name": "stdout",
     "output_type": "stream",
     "text": [
      "total number of sequences in the corpus: 321420\n"
     ]
    }
   ],
   "source": [
    "# 把corpus分成等长字符串\n",
    "length = 40\n",
    "features = []\n",
    "targets = []\n",
    "\n",
    "# 将字符转化为数字再输入\n",
    "for i in range(0, corpus_len - length):\n",
    "    feature = corpus[i : i + length]\n",
    "    target = corpus[i + length]\n",
    "    features.append([mapping[j] for j in feature])\n",
    "    targets.append(mapping[target])\n",
    "    \n",
    "datapoints = len(targets)\n",
    "print(\"total number of sequences in the corpus:\", datapoints)"
   ]
  },
  {
   "cell_type": "code",
   "execution_count": 7,
   "id": "c34cd81b",
   "metadata": {},
   "outputs": [],
   "source": [
    "# reshape X and normalize\n",
    "X = (np.reshape(features, (datapoints, length, 1)))/ float(symbol_len)\n",
    "\n",
    "# one hot encode the output variable\n",
    "y = np_utils.to_categorical(targets)"
   ]
  },
  {
   "cell_type": "code",
   "execution_count": 8,
   "id": "3ee39175",
   "metadata": {},
   "outputs": [
    {
     "name": "stdout",
     "output_type": "stream",
     "text": [
      "Model: \"sequential\"\n",
      "_________________________________________________________________\n",
      " Layer (type)                Output Shape              Param #   \n",
      "=================================================================\n",
      " lstm (LSTM)                 (None, 256)               264192    \n",
      "                                                                 \n",
      " dense (Dense)               (None, 41)                10537     \n",
      "                                                                 \n",
      "=================================================================\n",
      "Total params: 274,729\n",
      "Trainable params: 274,729\n",
      "Non-trainable params: 0\n",
      "_________________________________________________________________\n"
     ]
    }
   ],
   "source": [
    "# 建立模型\n",
    "\n",
    "# 模型初始化\n",
    "model = Sequential()\n",
    "\n",
    "# 添加layers\n",
    "model.add(LSTM(256, input_shape = (X.shape[1], X.shape[2])))\n",
    "model.add(Dense(y.shape[1], activation = 'softmax'))\n",
    "\n",
    "# 将用于训练的模型编译出来 \n",
    "opt = Adamax(learning_rate=0.01)\n",
    "model.compile(loss='categorical_crossentropy', optimizer=opt)\n",
    "           \n",
    "model.summary()"
   ]
  },
  {
   "cell_type": "code",
   "execution_count": 9,
   "id": "5351d7dd",
   "metadata": {},
   "outputs": [
    {
     "name": "stdout",
     "output_type": "stream",
     "text": [
      "Epoch 1/100\n",
      "2512/2512 [==============================] - 242s 95ms/step - loss: 2.6948\n",
      "Epoch 2/100\n",
      "2512/2512 [==============================] - 238s 95ms/step - loss: 2.4975\n",
      "Epoch 3/100\n",
      "2512/2512 [==============================] - 245s 97ms/step - loss: 2.3464\n",
      "Epoch 4/100\n",
      "2512/2512 [==============================] - 237s 94ms/step - loss: 2.2143\n",
      "Epoch 5/100\n",
      "2512/2512 [==============================] - 238s 95ms/step - loss: 2.1080\n",
      "Epoch 6/100\n",
      "2512/2512 [==============================] - 243s 97ms/step - loss: 2.0205\n",
      "Epoch 7/100\n",
      "2512/2512 [==============================] - 249s 99ms/step - loss: 1.9492\n",
      "Epoch 8/100\n",
      "2512/2512 [==============================] - 238s 95ms/step - loss: 1.8916\n",
      "Epoch 9/100\n",
      "2512/2512 [==============================] - 238s 95ms/step - loss: 1.8431\n",
      "Epoch 10/100\n",
      "2512/2512 [==============================] - 239s 95ms/step - loss: 1.7969\n",
      "Epoch 11/100\n",
      "2512/2512 [==============================] - 240s 95ms/step - loss: 1.7575\n",
      "Epoch 12/100\n",
      "2512/2512 [==============================] - 239s 95ms/step - loss: 1.7238\n",
      "Epoch 13/100\n",
      "2512/2512 [==============================] - 241s 96ms/step - loss: 1.6917\n",
      "Epoch 14/100\n",
      "2512/2512 [==============================] - 236s 94ms/step - loss: 1.6668\n",
      "Epoch 15/100\n",
      "2512/2512 [==============================] - 262s 104ms/step - loss: 1.6470\n",
      "Epoch 16/100\n",
      "2512/2512 [==============================] - 246s 98ms/step - loss: 1.6237\n",
      "Epoch 17/100\n",
      "2512/2512 [==============================] - 252s 100ms/step - loss: 1.5989\n",
      "Epoch 18/100\n",
      "2512/2512 [==============================] - 243s 97ms/step - loss: 1.5805\n",
      "Epoch 19/100\n",
      "2512/2512 [==============================] - 240s 96ms/step - loss: 1.5529\n",
      "Epoch 20/100\n",
      "2512/2512 [==============================] - 236s 94ms/step - loss: 1.5427\n",
      "Epoch 21/100\n",
      "2512/2512 [==============================] - 237s 95ms/step - loss: 1.5089\n",
      "Epoch 22/100\n",
      "2512/2512 [==============================] - 237s 94ms/step - loss: 1.5039\n",
      "Epoch 23/100\n",
      "2512/2512 [==============================] - 236s 94ms/step - loss: 1.5034\n",
      "Epoch 24/100\n",
      "2512/2512 [==============================] - 237s 94ms/step - loss: 1.4941\n",
      "Epoch 25/100\n",
      "2512/2512 [==============================] - 237s 94ms/step - loss: 1.4763\n",
      "Epoch 26/100\n",
      "2512/2512 [==============================] - 245s 97ms/step - loss: 1.4498\n",
      "Epoch 27/100\n",
      "2512/2512 [==============================] - 242s 96ms/step - loss: 1.4401\n",
      "Epoch 28/100\n",
      "2512/2512 [==============================] - 239s 95ms/step - loss: 1.4495\n",
      "Epoch 29/100\n",
      "2512/2512 [==============================] - 239s 95ms/step - loss: 1.4356\n",
      "Epoch 30/100\n",
      "2512/2512 [==============================] - 232s 92ms/step - loss: 1.4180\n",
      "Epoch 31/100\n",
      "2512/2512 [==============================] - 236s 94ms/step - loss: 1.3881\n",
      "Epoch 32/100\n",
      "2512/2512 [==============================] - 230s 91ms/step - loss: 1.3868\n",
      "Epoch 33/100\n",
      "2512/2512 [==============================] - 228s 91ms/step - loss: 1.3936\n",
      "Epoch 34/100\n",
      "2512/2512 [==============================] - 228s 91ms/step - loss: 1.3950\n",
      "Epoch 35/100\n",
      "2512/2512 [==============================] - 228s 91ms/step - loss: 1.3817\n",
      "Epoch 36/100\n",
      "2512/2512 [==============================] - 230s 92ms/step - loss: 1.3670\n",
      "Epoch 37/100\n",
      "2512/2512 [==============================] - 228s 91ms/step - loss: 1.3663\n",
      "Epoch 38/100\n",
      "2512/2512 [==============================] - 228s 91ms/step - loss: 1.3484\n",
      "Epoch 39/100\n",
      "2512/2512 [==============================] - 228s 91ms/step - loss: 1.3567\n",
      "Epoch 40/100\n",
      "2512/2512 [==============================] - 240s 95ms/step - loss: 1.3362\n",
      "Epoch 41/100\n",
      "2512/2512 [==============================] - 228s 91ms/step - loss: 1.3392\n",
      "Epoch 42/100\n",
      "2512/2512 [==============================] - 229s 91ms/step - loss: 1.3252\n",
      "Epoch 43/100\n",
      "2512/2512 [==============================] - 227s 90ms/step - loss: 1.3128\n",
      "Epoch 44/100\n",
      "2512/2512 [==============================] - 234s 93ms/step - loss: 1.2948\n",
      "Epoch 45/100\n",
      "2512/2512 [==============================] - 227s 90ms/step - loss: 1.2996\n",
      "Epoch 46/100\n",
      "2512/2512 [==============================] - 229s 91ms/step - loss: 1.2666\n",
      "Epoch 47/100\n",
      "2512/2512 [==============================] - 228s 91ms/step - loss: 1.2968\n",
      "Epoch 48/100\n",
      "2512/2512 [==============================] - 228s 91ms/step - loss: 1.2948\n",
      "Epoch 49/100\n",
      "2512/2512 [==============================] - 228s 91ms/step - loss: 1.2670\n",
      "Epoch 50/100\n",
      "2512/2512 [==============================] - 228s 91ms/step - loss: 1.2481\n",
      "Epoch 51/100\n",
      "2512/2512 [==============================] - 232s 93ms/step - loss: 1.2547\n",
      "Epoch 52/100\n",
      "2512/2512 [==============================] - 229s 91ms/step - loss: 1.2517\n",
      "Epoch 53/100\n",
      "2512/2512 [==============================] - 235s 94ms/step - loss: 1.2761\n",
      "Epoch 54/100\n",
      "2512/2512 [==============================] - 228s 91ms/step - loss: 1.2551\n",
      "Epoch 55/100\n",
      "2512/2512 [==============================] - 229s 91ms/step - loss: 1.2332\n",
      "Epoch 56/100\n",
      "2512/2512 [==============================] - 228s 91ms/step - loss: 1.2295\n",
      "Epoch 57/100\n",
      "2512/2512 [==============================] - 229s 91ms/step - loss: 1.1903\n",
      "Epoch 58/100\n",
      "2512/2512 [==============================] - 229s 91ms/step - loss: 1.2426\n",
      "Epoch 59/100\n",
      "2512/2512 [==============================] - 228s 91ms/step - loss: 1.2156\n",
      "Epoch 60/100\n",
      "2512/2512 [==============================] - 228s 91ms/step - loss: 1.2248\n",
      "Epoch 61/100\n",
      "2512/2512 [==============================] - 229s 91ms/step - loss: 1.2354\n",
      "Epoch 62/100\n",
      "2512/2512 [==============================] - 229s 91ms/step - loss: 1.1966\n",
      "Epoch 63/100\n",
      "2512/2512 [==============================] - 228s 91ms/step - loss: 1.2064\n",
      "Epoch 64/100\n",
      "2512/2512 [==============================] - 229s 91ms/step - loss: 1.1917\n",
      "Epoch 65/100\n",
      "2512/2512 [==============================] - 229s 91ms/step - loss: 1.2088\n",
      "Epoch 66/100\n",
      "2512/2512 [==============================] - 229s 91ms/step - loss: 1.1593\n",
      "Epoch 67/100\n",
      "2512/2512 [==============================] - 237s 94ms/step - loss: 1.1694\n",
      "Epoch 68/100\n",
      "2512/2512 [==============================] - 228s 91ms/step - loss: 1.1705\n",
      "Epoch 69/100\n",
      "2512/2512 [==============================] - 235s 94ms/step - loss: 1.1543\n",
      "Epoch 70/100\n",
      "2512/2512 [==============================] - 229s 91ms/step - loss: 1.1533\n",
      "Epoch 71/100\n",
      "2512/2512 [==============================] - 237s 94ms/step - loss: 1.1522\n",
      "Epoch 72/100\n",
      "2512/2512 [==============================] - 241s 96ms/step - loss: 1.1807\n",
      "Epoch 73/100\n",
      "2512/2512 [==============================] - 227s 90ms/step - loss: 1.1985\n",
      "Epoch 74/100\n",
      "2512/2512 [==============================] - 235s 94ms/step - loss: 1.1894\n",
      "Epoch 75/100\n",
      "2512/2512 [==============================] - 233s 93ms/step - loss: 1.1428\n",
      "Epoch 76/100\n",
      "2512/2512 [==============================] - 230s 92ms/step - loss: 1.1305\n",
      "Epoch 77/100\n",
      "2512/2512 [==============================] - 230s 92ms/step - loss: 1.1778\n",
      "Epoch 78/100\n",
      "2512/2512 [==============================] - 234s 93ms/step - loss: 1.1489\n",
      "Epoch 79/100\n",
      "2512/2512 [==============================] - 235s 94ms/step - loss: 1.1458\n",
      "Epoch 80/100\n",
      "2512/2512 [==============================] - 239s 95ms/step - loss: 1.1656\n",
      "Epoch 81/100\n",
      "2512/2512 [==============================] - 236s 94ms/step - loss: 1.1376\n",
      "Epoch 82/100\n",
      "2512/2512 [==============================] - 231s 92ms/step - loss: 1.1622\n",
      "Epoch 83/100\n",
      "2512/2512 [==============================] - 233s 93ms/step - loss: 1.1399\n",
      "Epoch 84/100\n",
      "2512/2512 [==============================] - 237s 94ms/step - loss: 1.1488\n",
      "Epoch 85/100\n",
      "2512/2512 [==============================] - 242s 97ms/step - loss: 1.1339\n",
      "Epoch 86/100\n",
      "2512/2512 [==============================] - 232s 92ms/step - loss: 1.1269\n",
      "Epoch 87/100\n",
      "2512/2512 [==============================] - 235s 94ms/step - loss: 1.1206\n",
      "Epoch 88/100\n",
      "2512/2512 [==============================] - 236s 94ms/step - loss: 1.1307\n",
      "Epoch 89/100\n",
      "2512/2512 [==============================] - 236s 94ms/step - loss: 1.0905\n",
      "Epoch 90/100\n",
      "2512/2512 [==============================] - 240s 95ms/step - loss: 1.1317\n",
      "Epoch 91/100\n",
      "2512/2512 [==============================] - 234s 93ms/step - loss: 1.1213\n",
      "Epoch 92/100\n",
      "2512/2512 [==============================] - 230s 92ms/step - loss: 1.0884\n",
      "Epoch 93/100\n",
      "2512/2512 [==============================] - 236s 94ms/step - loss: 1.0980\n",
      "Epoch 94/100\n",
      "2512/2512 [==============================] - 229s 91ms/step - loss: 1.1310\n",
      "Epoch 95/100\n",
      "2512/2512 [==============================] - 230s 91ms/step - loss: 1.0694\n",
      "Epoch 96/100\n",
      "2512/2512 [==============================] - 230s 91ms/step - loss: 1.0546\n",
      "Epoch 97/100\n",
      "2512/2512 [==============================] - 229s 91ms/step - loss: 1.1145\n",
      "Epoch 98/100\n",
      "2512/2512 [==============================] - 233s 93ms/step - loss: 1.0924\n",
      "Epoch 99/100\n",
      "2512/2512 [==============================] - 229s 91ms/step - loss: 1.1023\n",
      "Epoch 100/100\n",
      "2512/2512 [==============================] - 241s 96ms/step - loss: 1.1130\n"
     ]
    }
   ],
   "source": [
    "# 训练模型\n",
    "history = model.fit(X, y, batch_size = 128, epochs = 100)"
   ]
  },
  {
   "cell_type": "code",
   "execution_count": 21,
   "id": "a848919a",
   "metadata": {},
   "outputs": [
    {
     "name": "stderr",
     "output_type": "stream",
     "text": [
      "WARNING:absl:Found untraced functions such as lstm_cell_layer_call_fn, lstm_cell_layer_call_and_return_conditional_losses while saving (showing 2 of 2). These functions will not be directly callable after loading.\n"
     ]
    },
    {
     "name": "stdout",
     "output_type": "stream",
     "text": [
      "INFO:tensorflow:Assets written to: ram://0aa38510-20e3-4f6e-90c7-5aaa126f5acb/assets\n"
     ]
    },
    {
     "name": "stderr",
     "output_type": "stream",
     "text": [
      "INFO:tensorflow:Assets written to: ram://0aa38510-20e3-4f6e-90c7-5aaa126f5acb/assets\n"
     ]
    }
   ],
   "source": [
    "# 将model保存下来\n",
    "with open(\"saved_model_rfc.pickle\",'wb') as f:\n",
    "    pickle.dump(model, f)"
   ]
  },
  {
   "cell_type": "code",
   "execution_count": 10,
   "id": "d03a92f1",
   "metadata": {},
   "outputs": [
    {
     "data": {
      "image/png": "[encoded data removed]",
      "text/plain": [
       "<Figure size 1080x288 with 1 Axes>"
      ]
     },
     "metadata": {
      "needs_background": "light"
     },
     "output_type": "display_data"
    }
   ],
   "source": [
    "# 评价该模型\n",
    "history_df = pd.DataFrame(history.history)\n",
    "\n",
    "fig = plt.figure(figsize = (15,4))\n",
    "fig.suptitle(\"Learning Plot of Model for Loss\")\n",
    "pl=sns.lineplot(data=history_df[\"loss\"],color = \"steelblue\")\n",
    "pl.set(ylabel = \"Training Loss\")\n",
    "pl.set(xlabel = \"Epochs\")\n",
    "plt.savefig('D:/intro/DaSE_intro/final/pics/model_loss.png',dpi=1000)"
   ]
  },
  {
   "cell_type": "code",
   "execution_count": 13,
   "id": "651fa04f",
   "metadata": {},
   "outputs": [],
   "source": [
    "# 加载模型并预测\n",
    "import pickle\n",
    "\n",
    "with open(\"D:/intro/DaSE_intro/final/saved_model_rfc.pickle\",'rb') as f:\n",
    "    model0 = pickle.load(f)"
   ]
  },
  {
   "cell_type": "code",
   "execution_count": 13,
   "id": "ad8c1de1",
   "metadata": {},
   "outputs": [],
   "source": [
    "# 预测函数\n",
    "def Lyrics_Generator(starter,Ch_count): # temperature=1.0:\n",
    "    generated= \"\"\n",
    "    starter = starter \n",
    "    seed=[mapping[char] for char in starter]\n",
    "    generated += starter \n",
    "    # Generating new text of given length\n",
    "    for i in range(Ch_count):\n",
    "        seed=[mapping[char] for char in starter]\n",
    "        x_pred = np.reshape(seed, (1, len(seed), 1))\n",
    "        x_pred = x_pred/ float(symbol_len)\n",
    "        prediction = model.predict(x_pred, verbose=0)[0]  \n",
    "        # Getting the index of the next most probable index\n",
    "        prediction = np.asarray(prediction).astype('float64')\n",
    "        prediction = np.log(prediction) / 1.0 \n",
    "        exp_preds = np.exp(prediction)\n",
    "        prediction = exp_preds / np.sum(exp_preds)\n",
    "        probas = np.random.multinomial(1, prediction, 1)\n",
    "        index = np.argmax(prediction)\n",
    "        next_char = reverse_mapping[index]  \n",
    "        # Generating new text\n",
    "        generated += next_char\n",
    "        starter = starter[1:] + next_char\n",
    "    return generated"
   ]
  },
  {
   "cell_type": "code",
   "execution_count": 19,
   "id": "33c5c8f3",
   "metadata": {},
   "outputs": [
    {
     "name": "stdout",
     "output_type": "stream",
     "text": [
      "i want to know if you can sit with pain.me thi nooe of the nog oh mes bele pinei was the tort blante  but i don t wanna moss youyou re not sorryno, oo, oh,ohyou left me that lt whll you wait an tid rame  well and whan you re soinl  i go bnand acrytakeand i love you bgaina dorna dooeaut  caby, babk updid you move mive with the gerltateaid rtmeet i m nns as axy  huy dodn the same niseand i nov to looking an mrst snceshes le to  go d getaw\n"
     ]
    }
   ],
   "source": [
    "song_1 = Lyrics_Generator(\"i want to know if you can sit with pain.\", 400)\n",
    "print(song_1)"
   ]
  },
  {
   "cell_type": "code",
   "execution_count": 22,
   "id": "14a0cdb0",
   "metadata": {},
   "outputs": [
    {
     "name": "stdout",
     "output_type": "stream",
     "text": [
      "for fear of losing you,i would never crye gealing you li never gete you lo co a smaks to goower and wou re the one i want  andi  bod  ol,  sooe attt ai  ah, ah, ah, ah, ah, ah, aaby, thit in the cack of your manding at all when ye were say, it s ll tseeryou know i love a london boy, i en rherker dian t stu wothd you know tomething sha wirdowshe said  see s she thaseion semoe  the woast you make this way tooething you dod the rool  oo sh\n"
     ]
    }
   ],
   "source": [
    "song_2 = Lyrics_Generator(\"for fear of losing you,i would never cry\", 400)\n",
    "print(song_2)"
   ]
  }
 ],
 "metadata": {
  "kernelspec": {
   "display_name": "Python 3 (ipykernel)",
   "language": "python",
   "name": "python3"
  },
  "language_info": {
   "codemirror_mode": {
    "name": "ipython",
    "version": 3
   },
   "file_extension": ".py",
   "mimetype": "text/x-python",
   "name": "python",
   "nbconvert_exporter": "python",
   "pygments_lexer": "ipython3",
   "version": "3.9.12"
  }
 },
 "nbformat": 4,
 "nbformat_minor": 5
}
