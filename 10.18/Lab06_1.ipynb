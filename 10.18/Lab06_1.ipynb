{
 "cells": [
  {
   "cell_type": "code",
   "execution_count": 1,
   "id": "8dd1f3f1",
   "metadata": {},
   "outputs": [
    {
     "name": "stdout",
     "output_type": "stream",
     "text": [
      "I can't finish my homework.\n",
      "It is too difficult for me.\n"
     ]
    }
   ],
   "source": [
    "f1 = open('D:/intro/DaSE_intro/10.18/test.txt', 'r')\n",
    "s = f1.read()\n",
    "print(s)"
   ]
  },
  {
   "cell_type": "code",
   "execution_count": 2,
   "id": "fd867db0",
   "metadata": {},
   "outputs": [
    {
     "name": "stdout",
     "output_type": "stream",
     "text": [
      "I can't finish my homework.\n",
      "It is too difficult for me.\n"
     ]
    }
   ],
   "source": [
    "f1 = open('D:/intro/DaSE_intro/10.18/test.txt', 'r')\n",
    "for line in f1:\n",
    "    line = line.strip() #去除末尾换行符，因为下一行print函数默认结尾输出一个换行符，不需要文件的换行符\n",
    "    print(line)"
   ]
  },
  {
   "cell_type": "code",
   "execution_count": 3,
   "id": "3d6ac7d9",
   "metadata": {},
   "outputs": [
    {
     "name": "stdout",
     "output_type": "stream",
     "text": [
      "I can't finish my homework.\n"
     ]
    }
   ],
   "source": [
    "f1.seek(0) #将文件指针移动到文件开始\n",
    "s = f1.readline() #一次只读一行，然后将文件指针放到下一行开始\n",
    "print(s, end = '') #readline()读取末尾已经有换行符，所以设置打印末尾为空字符"
   ]
  },
  {
   "cell_type": "code",
   "execution_count": 4,
   "id": "82066e2b",
   "metadata": {},
   "outputs": [
    {
     "name": "stdout",
     "output_type": "stream",
     "text": [
      "[\"I can't finish my homework.\\n\", 'It is too difficult for me.']"
     ]
    }
   ],
   "source": [
    "f1.seek(0)\n",
    "s = f1.readlines() #读取所有行，包括换行符\n",
    "print(s, end = '') #readline()读取末尾已经有换行符，所以设置打印末尾为空字符"
   ]
  },
  {
   "cell_type": "code",
   "execution_count": 5,
   "id": "1dfe9040",
   "metadata": {},
   "outputs": [],
   "source": [
    "weather = {'北京':27.2, '天津':26.5, '上海':28.2, '重庆':30.1}\n",
    "f2 = open('D:/intro/DaSE_intro/10.18/weather.txt','w')\n",
    "for key, value in weather.items():\n",
    "    s = key + ' ' + str(value) + '\\n'\n",
    "    f2.write(s)"
   ]
  },
  {
   "cell_type": "code",
   "execution_count": 6,
   "id": "11062489",
   "metadata": {},
   "outputs": [],
   "source": [
    "f1.close()\n",
    "f2.close()"
   ]
  }
 ],
 "metadata": {
  "kernelspec": {
   "display_name": "Python 3 (ipykernel)",
   "language": "python",
   "name": "python3"
  },
  "language_info": {
   "codemirror_mode": {
    "name": "ipython",
    "version": 3
   },
   "file_extension": ".py",
   "mimetype": "text/x-python",
   "name": "python",
   "nbconvert_exporter": "python",
   "pygments_lexer": "ipython3",
   "version": "3.9.12"
  }
 },
 "nbformat": 4,
 "nbformat_minor": 5
}
