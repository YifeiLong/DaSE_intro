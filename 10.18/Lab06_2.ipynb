{
 "cells": [
  {
   "cell_type": "code",
   "execution_count": 1,
   "id": "cd1d5239",
   "metadata": {},
   "outputs": [
    {
     "name": "stdout",
     "output_type": "stream",
     "text": [
      "[[74 87 82]\n",
      " [92 88 90]\n",
      " [87 82 81]\n",
      " [98 97 96]\n",
      " [62 51 60]]\n"
     ]
    }
   ],
   "source": [
    "#打开文件，查看内容并读取\n",
    "import pandas as pd\n",
    "import numpy as np\n",
    "\n",
    "data = pd.read_csv(\"D:/intro/DaSE_intro/10.18/stuGrade.csv\",usecols=[\"chinese\", \"math\", \"english\"]) #usecols:读取第几列\n",
    "data = np.array(data)\n",
    "print(data)"
   ]
  },
  {
   "cell_type": "code",
   "execution_count": 2,
   "id": "ad062fa7",
   "metadata": {},
   "outputs": [
    {
     "name": "stdout",
     "output_type": "stream",
     "text": [
      "82.60\n",
      "81.00\n",
      "81.80\n"
     ]
    }
   ],
   "source": [
    "#计算各科平均成绩\n",
    "average = []\n",
    "for i in range(3):\n",
    "    sum = 0\n",
    "    for j in range(5):\n",
    "        sum += data[j][i]\n",
    "    sum /= 5\n",
    "    average.append(sum)\n",
    "for i in range(3):\n",
    "    print(\"%.2f\" %average[i]) #输出两位小数"
   ]
  },
  {
   "cell_type": "code",
   "execution_count": 3,
   "id": "b701ad0c",
   "metadata": {},
   "outputs": [],
   "source": [
    "import time\n",
    "\n",
    "s1 = '10215501415 YifeiLong'+'\\n'\n",
    "s2 = '82.60' + ','+'81.00'+','+'81.80'+'\\n'\n",
    "s3 = time.strftime(\"%Y-%m-%d %H:%M:%S\",time.localtime()) +'\\n'\n",
    "time.sleep(2) #停2秒再运行\n",
    "s4 = time.strftime(\"%Y-%m-%d %H:%M:%S\",time.localtime())\n",
    "\n",
    "with open('D:/intro/DaSE_intro/10.18/my.txt','w') as f2: #自动关闭文件\n",
    "    f2.write(s1)\n",
    "    f2.write(s2)\n",
    "    f2.write(s3)\n",
    "    f2.write(s4)"
   ]
  }
 ],
 "metadata": {
  "kernelspec": {
   "display_name": "Python 3 (ipykernel)",
   "language": "python",
   "name": "python3"
  },
  "language_info": {
   "codemirror_mode": {
    "name": "ipython",
    "version": 3
   },
   "file_extension": ".py",
   "mimetype": "text/x-python",
   "name": "python",
   "nbconvert_exporter": "python",
   "pygments_lexer": "ipython3",
   "version": "3.9.12"
  }
 },
 "nbformat": 4,
 "nbformat_minor": 5
}
