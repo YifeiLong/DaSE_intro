{
 "cells": [
  {
   "cell_type": "code",
   "execution_count": 1,
   "id": "9b2cd54f",
   "metadata": {},
   "outputs": [
    {
     "name": "stdout",
     "output_type": "stream",
     "text": [
      "         id  city  hour  is_workday  weather  temp_1  temp_2  wind    y\n",
      "0         1     0    22           1        2     3.0     0.7     0   15\n",
      "1         2     0    10           1        1    21.0    24.9     3   48\n",
      "2         3     0     0           1        1    25.3    27.4     0   21\n",
      "3         4     0     7           0        1    15.7    16.2     0   11\n",
      "4         5     1    10           1        1    21.1    25.0     2   39\n",
      "...     ...   ...   ...         ...      ...     ...     ...   ...  ...\n",
      "9995   9996     0     4           0        2     8.3     7.3     0    2\n",
      "9996   9997     1     5           0        1    22.3    22.2     0    1\n",
      "9997   9998     1     0           0        1     9.6     9.7     0   11\n",
      "9998   9999     0    18           0        2    27.4    29.7     1  105\n",
      "9999  10000     0     9           1        2     3.2    -2.1     2   48\n",
      "\n",
      "[10000 rows x 9 columns]\n"
     ]
    }
   ],
   "source": [
    "import numpy as np\n",
    "import pandas as pd\n",
    "import math\n",
    "from sklearn.model_selection import train_test_split\n",
    "from sklearn.preprocessing import MinMaxScaler\n",
    "from sklearn.linear_model import LinearRegression\n",
    "from sklearn.metrics import mean_squared_error\n",
    "\n",
    "data = pd.read_csv('D:/intro/DaSE_intro/11.15/bike.csv', header = 0) #以第一行为标题\n",
    "print(data)"
   ]
  },
  {
   "cell_type": "code",
   "execution_count": 2,
   "id": "d69af22b-0f2c-494c-831f-64fd45e8ea69",
   "metadata": {},
   "outputs": [
    {
     "name": "stdout",
     "output_type": "stream",
     "text": [
      "      city  hour  is_workday  weather  temp_1  temp_2  wind    y\n",
      "0        0    22           1        2     3.0     0.7     0   15\n",
      "1        0    10           1        1    21.0    24.9     3   48\n",
      "2        0     0           1        1    25.3    27.4     0   21\n",
      "3        0     7           0        1    15.7    16.2     0   11\n",
      "4        1    10           1        1    21.1    25.0     2   39\n",
      "...    ...   ...         ...      ...     ...     ...   ...  ...\n",
      "9995     0     4           0        2     8.3     7.3     0    2\n",
      "9996     1     5           0        1    22.3    22.2     0    1\n",
      "9997     1     0           0        1     9.6     9.7     0   11\n",
      "9998     0    18           0        2    27.4    29.7     1  105\n",
      "9999     0     9           1        2     3.2    -2.1     2   48\n",
      "\n",
      "[10000 rows x 8 columns]\n"
     ]
    }
   ],
   "source": [
    "data = data.drop('id', axis = 1)\n",
    "print(data)"
   ]
  },
  {
   "cell_type": "code",
   "execution_count": 3,
   "id": "f9b6a5e2-3c22-4ad7-8f25-d6cfb0e4ccb5",
   "metadata": {},
   "outputs": [
    {
     "name": "stdout",
     "output_type": "stream",
     "text": [
      "      hour  is_workday  weather  temp_1  temp_2  wind    y\n",
      "4       10           1        1    21.1    25.0     2   39\n",
      "5        0           1        1    20.4    18.2     0   12\n",
      "9        4           1        3    17.4    18.0     3    2\n",
      "10       0           1        1    14.9    15.3     2    6\n",
      "11       8           0        1    25.0    28.1     0   25\n",
      "...    ...         ...      ...     ...     ...   ...  ...\n",
      "9990    23           1        2    19.2    19.9     1   44\n",
      "9991    19           1        1    25.1    26.2     2  124\n",
      "9993     5           1        3    13.7    14.1     2    1\n",
      "9996     5           0        1    22.3    22.2     0    1\n",
      "9997     0           0        1     9.6     9.7     0   11\n",
      "\n",
      "[4998 rows x 7 columns]\n"
     ]
    }
   ],
   "source": [
    "# 筛选出上海市的所有数据，然后剔除city列\n",
    "shanghai = data.loc[data['city'] == 1]\n",
    "shanghai = shanghai.drop('city', axis = 1)\n",
    "print(shanghai)"
   ]
  },
  {
   "cell_type": "code",
   "execution_count": 4,
   "id": "4293e342-84c4-468d-bab5-4f51b2245d69",
   "metadata": {},
   "outputs": [
    {
     "name": "stdout",
     "output_type": "stream",
     "text": [
      "      hour  is_workday  weather  temp_1  temp_2  wind    y\n",
      "4        1           1        1    21.1    25.0     2   39\n",
      "5        0           1        1    20.4    18.2     0   12\n",
      "9        0           1        3    17.4    18.0     3    2\n",
      "10       0           1        1    14.9    15.3     2    6\n",
      "11       1           0        1    25.0    28.1     0   25\n",
      "...    ...         ...      ...     ...     ...   ...  ...\n",
      "9990     0           1        2    19.2    19.9     1   44\n",
      "9991     0           1        1    25.1    26.2     2  124\n",
      "9993     0           1        3    13.7    14.1     2    1\n",
      "9996     0           0        1    22.3    22.2     0    1\n",
      "9997     0           0        1     9.6     9.7     0   11\n",
      "\n",
      "[4998 rows x 7 columns]\n"
     ]
    }
   ],
   "source": [
    "# 将hour列中原来6点-18点统一为1；19点-次日5点统一为0\n",
    "shanghai.loc[shanghai['hour'] >= 19, 'hour'] = 0\n",
    "shanghai.loc[shanghai['hour'] <= 5, 'hour'] = 0\n",
    "shanghai.loc[shanghai['hour'] != 0, 'hour'] = 1\n",
    "print(shanghai)"
   ]
  },
  {
   "cell_type": "code",
   "execution_count": 5,
   "id": "fc3e90a0-24e6-4a4c-9ebc-96c5610444ce",
   "metadata": {},
   "outputs": [
    {
     "name": "stdout",
     "output_type": "stream",
     "text": [
      "[[39]\n",
      " [12]\n",
      " [ 2]\n",
      " ...\n",
      " [ 1]\n",
      " [ 1]\n",
      " [11]]\n"
     ]
    }
   ],
   "source": [
    "# y列为单车租用数量，是我们的预测目标（标签），请将该列提取出来，并转换为一个numpy列向量，将原先的y列剔除\n",
    "bike = shanghai['y'].to_numpy() # 转化成一个numpy数组\n",
    "bike = bike.reshape(len(bike), 1)\n",
    "shanghai = shanghai.drop('y', axis = 1)\n",
    "print(bike)"
   ]
  },
  {
   "cell_type": "code",
   "execution_count": 6,
   "id": "400edde7-1d93-4b17-8a28-aa5b898df18e",
   "metadata": {},
   "outputs": [
    {
     "name": "stdout",
     "output_type": "stream",
     "text": [
      "[[ 1.   1.   1.  21.1 25.   2. ]\n",
      " [ 0.   1.   1.  20.4 18.2  0. ]\n",
      " [ 0.   1.   3.  17.4 18.   3. ]\n",
      " ...\n",
      " [ 0.   1.   3.  13.7 14.1  2. ]\n",
      " [ 0.   0.   1.  22.3 22.2  0. ]\n",
      " [ 0.   0.   1.   9.6  9.7  0. ]]\n"
     ]
    }
   ],
   "source": [
    "# 请将DataFrame对象转换为Numpy数组，方便后续操作\n",
    "shanghai = np.array(shanghai)\n",
    "print(shanghai)"
   ]
  },
  {
   "cell_type": "code",
   "execution_count": 7,
   "id": "0b6209d3-3cf1-430e-b23c-f66585e10a5f",
   "metadata": {},
   "outputs": [
    {
     "name": "stdout",
     "output_type": "stream",
     "text": [
      "训练集数据量： 3998 3998\n",
      "测试集数据量： 1000 1000\n"
     ]
    }
   ],
   "source": [
    "# 按照训练集与测试集8:2的比例将原始数据集划分\n",
    "# shuffle参数用于“洗牌”，打乱原始的数据行排列顺序\n",
    "x_train, x_test, y_train, y_test = train_test_split(shanghai, bike, test_size=0.2, shuffle=True)\n",
    "print('训练集数据量：',len(x_train), len(y_train))\n",
    "print('测试集数据量：',len(x_test), len(y_test))"
   ]
  },
  {
   "cell_type": "code",
   "execution_count": 8,
   "id": "fbfea6c9-801e-4521-94a8-009ed7f65071",
   "metadata": {},
   "outputs": [],
   "source": [
    "# 分别对训练集数据、训练集标签、测试集数据和测试集标签进行归一化\n",
    "scale = MinMaxScaler() # 归一化模型\n",
    "x_train = scale.fit_transform(x_train)\n",
    "x_test = scale.fit_transform(x_test)\n",
    "y_train = scale.fit_transform(y_train)\n",
    "y_test = scale.fit_transform(y_test)"
   ]
  },
  {
   "cell_type": "code",
   "execution_count": 9,
   "id": "07c15936-5403-4c3e-8940-bcd805a7d8f3",
   "metadata": {},
   "outputs": [
    {
     "name": "stdout",
     "output_type": "stream",
     "text": [
      "[[ 0.1647886   0.00160362 -0.08069044  0.25552505  0.1517082   0.03036236]]\n",
      "[-0.06253923]\n"
     ]
    }
   ],
   "source": [
    "# 构建一个线性回归模型（多元一次函数），然后利用训练集训练模型\n",
    "model = LinearRegression()\n",
    "model.fit(x_train, y_train)\n",
    "print(model.coef_) # 系数\n",
    "print(model.intercept_) # 截距"
   ]
  },
  {
   "cell_type": "code",
   "execution_count": 10,
   "id": "5d087a89",
   "metadata": {},
   "outputs": [],
   "source": [
    "# 模型测试：利用测试集对训练好的模型进行评估\n",
    "test = model.predict(x_test)\n",
    "#print(test)"
   ]
  },
  {
   "cell_type": "code",
   "execution_count": 11,
   "id": "82f166be",
   "metadata": {},
   "outputs": [
    {
     "name": "stdout",
     "output_type": "stream",
     "text": [
      "0.17213183506123064\n"
     ]
    }
   ],
   "source": [
    "# 模型评估：请使用均方根误差（RMSE）作为评估指标，并输出RMSE值\n",
    "mse = mean_squared_error(y_test, test)\n",
    "rmse = math.sqrt(mse)\n",
    "print(rmse)"
   ]
  }
 ],
 "metadata": {
  "kernelspec": {
   "display_name": "Python 3 (ipykernel)",
   "language": "python",
   "name": "python3"
  },
  "language_info": {
   "codemirror_mode": {
    "name": "ipython",
    "version": 3
   },
   "file_extension": ".py",
   "mimetype": "text/x-python",
   "name": "python",
   "nbconvert_exporter": "python",
   "pygments_lexer": "ipython3",
   "version": "3.9.12"
  }
 },
 "nbformat": 4,
 "nbformat_minor": 5
}
