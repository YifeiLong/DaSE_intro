{
 "cells": [
  {
   "cell_type": "code",
   "execution_count": 1,
   "id": "07fb2091",
   "metadata": {},
   "outputs": [
    {
     "name": "stdout",
     "output_type": "stream",
     "text": [
      "11001011101100110001100100100101\n",
      "\n",
      "None\n"
     ]
    }
   ],
   "source": [
    "def conv_to_binary(a):\n",
    "    b = int(a)\n",
    "    res = []\n",
    "    while(b > 0):\n",
    "        res.append(b % 2)\n",
    "        b = b // 2\n",
    "    while len(res) < 8:\n",
    "        res.append(0)\n",
    "    res.reverse()\n",
    "    return res\n",
    "\n",
    "def conv_dec_to_ip(ip):\n",
    "    ip_list = ip.split(\".\")\n",
    "    list1 = []\n",
    "    for i in range(4):\n",
    "        list1.append(conv_to_binary(ip_list[i]))\n",
    "    for i in range(4):\n",
    "        for j in range(8):\n",
    "            print(list1[i][j], end = \"\")\n",
    "    print(\"\\n\")\n",
    "\n",
    "print(conv_dec_to_ip(\"203.179.25.37\"))"
   ]
  }
 ],
 "metadata": {
  "kernelspec": {
   "display_name": "Python 3 (ipykernel)",
   "language": "python",
   "name": "python3"
  },
  "language_info": {
   "codemirror_mode": {
    "name": "ipython",
    "version": 3
   },
   "file_extension": ".py",
   "mimetype": "text/x-python",
   "name": "python",
   "nbconvert_exporter": "python",
   "pygments_lexer": "ipython3",
   "version": "3.9.12"
  }
 },
 "nbformat": 4,
 "nbformat_minor": 5
}
