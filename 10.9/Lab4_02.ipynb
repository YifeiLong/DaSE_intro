{
 "cells": [
  {
   "cell_type": "code",
   "execution_count": 1,
   "id": "e1a32246",
   "metadata": {},
   "outputs": [],
   "source": [
    "# python对于类的成员没有严格的访问控制限制，这与其他面向对象的语言有区别。关于私有属性和私有方法，有如下要点：\n",
    "# 1）通常我们约定，两个下划线开头的属性是私有的，其他是公共的；\n",
    "# 2）类内部可以访问私有属性（方法）\n",
    "# 3）类外部不能直接访问私有属性（方法）\n",
    "# 4）类外部可以通过“_类名__私有属性（方法）”访问私有属性（方法）\n",
    "\n",
    "class Queue():\n",
    "    def __init__(self):\n",
    "        self.__item = [] #队列数组\n",
    "    \n",
    "    def size(self):\n",
    "        return len(self.__item)\n",
    "\n",
    "    def isempty(self): #返回队列是否为空\n",
    "        if len(self.__item) == 0:\n",
    "            return True\n",
    "        else:\n",
    "            return False\n",
    "    \n",
    "    def push(self, element): #入队\n",
    "        self.__item.append(element)\n",
    "\n",
    "    def pop(self): #出队\n",
    "        try:\n",
    "            return self.__item.pop(0) #list.pop()：弹出list中的元素；负数：倒着走\n",
    "        except:\n",
    "            return print('ERROR: Queue is empty now!')\n",
    "\n",
    "    def peek(self): #取队首\n",
    "        try:\n",
    "            return self.__items[0]\n",
    "        except:\n",
    "            print('ERROR: Queue is empty now!')\n",
    "\n",
    "    def bottom(self): #取队尾\n",
    "        try:\n",
    "            return self.__item[-1]\n",
    "        except:\n",
    "            print('ERROR: Queue is empty now!')"
   ]
  },
  {
   "cell_type": "code",
   "execution_count": 2,
   "id": "33b64703",
   "metadata": {},
   "outputs": [
    {
     "name": "stdout",
     "output_type": "stream",
     "text": [
      "1\n",
      "ERROR: Queue is empty now!\n",
      "None\n",
      "**************\n",
      "ERROR: Queue is empty now!\n",
      "None\n",
      "2.7\n",
      "2\n",
      "False\n"
     ]
    }
   ],
   "source": [
    "q = Queue()\n",
    "q.push(1)\n",
    "print(q.pop())\n",
    "print(q.pop())\n",
    "\n",
    "print('**************')\n",
    "\n",
    "q.push(3.5)\n",
    "q.push(2.7)\n",
    "print(q.peek())\n",
    "print(q.bottom())\n",
    "print(q.size())\n",
    "print(q.isempty())"
   ]
  }
 ],
 "metadata": {
  "kernelspec": {
   "display_name": "Python 3 (ipykernel)",
   "language": "python",
   "name": "python3"
  },
  "language_info": {
   "codemirror_mode": {
    "name": "ipython",
    "version": 3
   },
   "file_extension": ".py",
   "mimetype": "text/x-python",
   "name": "python",
   "nbconvert_exporter": "python",
   "pygments_lexer": "ipython3",
   "version": "3.9.12"
  }
 },
 "nbformat": 4,
 "nbformat_minor": 5
}
