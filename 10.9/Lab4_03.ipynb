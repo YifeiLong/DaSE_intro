{
 "cells": [
  {
   "cell_type": "code",
   "execution_count": 1,
   "id": "d71246bb",
   "metadata": {},
   "outputs": [],
   "source": [
    "class BinaryTree:\n",
    "    def __init__(self, data = None, left = None, right = None): \n",
    "    # 如果创建节点对象时left或right参数为空，则默认该节点没有左或右子树\n",
    "        self.data = data\n",
    "        self.left = left\n",
    "        self.right = right\n",
    "        \n",
    "    def preorder(self): #先序遍历\n",
    "        print(self.data, end = ' ') #先输出父节点\n",
    "        if self.left != None:\n",
    "            self.left.preorder()\n",
    "        if self.right != None:\n",
    "            self.right.preorder()\n",
    "    \n",
    "    def midorder(self): #中序遍历\n",
    "        if self.left != None:\n",
    "            self.left.midorder()\n",
    "        print(self.data, end = ' ')\n",
    "        if self.right != None:\n",
    "            self.right.midorder()\n",
    "            \n",
    "    def postorder(self): #后序遍历\n",
    "        if self.left != None:\n",
    "            self.left.postorder()\n",
    "        if self.right != None:\n",
    "            self.right.postorder()\n",
    "        print(self.data, end = ' ')\n",
    "        \n",
    "    def height(self): #树高\n",
    "        if self.data is None: #空的树高为0\n",
    "        #不同的None的id是不一样的，用is判断比==更快\n",
    "            return 0\n",
    "        elif self.left is None and self.right is None: #只有root的树高为1\n",
    "            return 1\n",
    "        elif self.left is None and self.right is not None:\n",
    "            return 1 + self.right.height()\n",
    "        elif self.left is not None and self.right is None:\n",
    "            return 1 + self.left.height()\n",
    "        else:\n",
    "            return 1 + max(self.right.height(), self.left.height())\n",
    "        \n",
    "    def layerorder(self): #层序遍历\n",
    "        if self == None:\n",
    "            return\n",
    "        queue = [] #存放节点的list\n",
    "        queue.append(self) #将头节点赋值进去\n",
    "        while queue:\n",
    "            q = queue.pop(0) #当前队列第一个\n",
    "            print(q.data, end = \" \")\n",
    "            if q.left != None:\n",
    "                queue.append(q.left)\n",
    "            if q.right != None:\n",
    "                queue.append(q.right)"
   ]
  },
  {
   "cell_type": "code",
   "execution_count": 2,
   "id": "94993753",
   "metadata": {},
   "outputs": [
    {
     "name": "stdout",
     "output_type": "stream",
     "text": [
      "3 5 1 6 2 0 8 7 4 \n"
     ]
    }
   ],
   "source": [
    "#layerx_y：第x层data为y的元素作为父节点\n",
    "layer3_2 = BinaryTree(2,BinaryTree(7),BinaryTree(4))\n",
    "layer2_5 = BinaryTree(5,BinaryTree(6),layer3_2)\n",
    "layer2_1 = BinaryTree(1,BinaryTree(0),BinaryTree(8))\n",
    "layer1_3 = BinaryTree(3,layer2_5,layer2_1)\n",
    "layer1_3.layerorder()\n",
    "print()"
   ]
  }
 ],
 "metadata": {
  "kernelspec": {
   "display_name": "Python 3 (ipykernel)",
   "language": "python",
   "name": "python3"
  },
  "language_info": {
   "codemirror_mode": {
    "name": "ipython",
    "version": 3
   },
   "file_extension": ".py",
   "mimetype": "text/x-python",
   "name": "python",
   "nbconvert_exporter": "python",
   "pygments_lexer": "ipython3",
   "version": "3.9.12"
  }
 },
 "nbformat": 4,
 "nbformat_minor": 5
}
