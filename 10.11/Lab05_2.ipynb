{
 "cells": [
  {
   "cell_type": "code",
   "execution_count": 1,
   "id": "0d6acae6",
   "metadata": {},
   "outputs": [],
   "source": [
    "import random\n",
    "import time\n",
    "\n",
    "def bubble_sort(arr):\n",
    "    for i in range(0, len(arr)):\n",
    "        for j in range(i + 1, len(arr)):\n",
    "            if arr[j] < arr[j - 1]:\n",
    "                t = arr[j - 1]\n",
    "                arr[j - 1] = arr[j]\n",
    "                arr[j] = t\n",
    "\n",
    "def quick_sort(arr, left, right):\n",
    "    if left >= right:\n",
    "        return\n",
    "    pivot = arr[left] #挑选第一个数作为主元\n",
    "    i = left\n",
    "    j = right\n",
    "    while i < j:\n",
    "        while i < j and arr[j] >= pivot:\n",
    "            j -= 1\n",
    "            arr[i] = arr[j]\n",
    "        while i < j and arr[j] < pivot:\n",
    "            arr[j] = arr[i]\n",
    "        arr[i] = pivot\n",
    "        quick_sort(arr, left, i - 1)\n",
    "        quick_sort(arr, i + 1, right)\n",
    "        \n",
    "def insertion_sort(arr):\n",
    "    for i in range(1, len(arr)):\n",
    "        origin = arr[i]\n",
    "        j = i\n",
    "        while j > 0:\n",
    "            if arr[j - 1] > origin:\n",
    "                arr[j] = arr[j - 1]\n",
    "            else:\n",
    "                break\n",
    "            j -= 1\n",
    "        arr[j] = origin"
   ]
  },
  {
   "cell_type": "code",
   "execution_count": 2,
   "id": "c4d604af",
   "metadata": {},
   "outputs": [],
   "source": [
    "arr1 = []\n",
    "for i in range(10000):\n",
    "    arr1.append(random.random())\n",
    "arr2 = arr1.copy()"
   ]
  },
  {
   "cell_type": "code",
   "execution_count": 3,
   "id": "63ef86a9",
   "metadata": {},
   "outputs": [
    {
     "name": "stdout",
     "output_type": "stream",
     "text": [
      "11.0276775\n"
     ]
    }
   ],
   "source": [
    "#用time库中perf_counter()计算两个排序方法执行时间\n",
    "t1 = time.perf_counter()\n",
    "bubble_sort(arr1)\n",
    "t2 = time.perf_counter()\n",
    "print(t2 - t1)"
   ]
  },
  {
   "cell_type": "code",
   "execution_count": 4,
   "id": "2f8db3bd",
   "metadata": {},
   "outputs": [
    {
     "name": "stdout",
     "output_type": "stream",
     "text": [
      "7.200912900000006\n"
     ]
    }
   ],
   "source": [
    "t3 = time.perf_counter()\n",
    "insertion_sort(arr2)\n",
    "t4 = time.perf_counter()\n",
    "print(t4 - t3)"
   ]
  }
 ],
 "metadata": {
  "kernelspec": {
   "display_name": "Python 3 (ipykernel)",
   "language": "python",
   "name": "python3"
  },
  "language_info": {
   "codemirror_mode": {
    "name": "ipython",
    "version": 3
   },
   "file_extension": ".py",
   "mimetype": "text/x-python",
   "name": "python",
   "nbconvert_exporter": "python",
   "pygments_lexer": "ipython3",
   "version": "3.9.12"
  }
 },
 "nbformat": 4,
 "nbformat_minor": 5
}
