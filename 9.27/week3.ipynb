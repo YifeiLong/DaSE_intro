{
 "cells": [
  {
   "cell_type": "code",
   "execution_count": 1,
   "id": "bfb27e4a",
   "metadata": {},
   "outputs": [
    {
     "name": "stdout",
     "output_type": "stream",
     "text": [
      "请输入：5\n",
      "120\n"
     ]
    }
   ],
   "source": [
    "# question 1\n",
    "def fact(n):\n",
    "    if n == 1:\n",
    "        return 1\n",
    "    elif n == 0:\n",
    "        return 1\n",
    "    else:\n",
    "        return n * fact(n - 1)\n",
    "\n",
    "n = int(input(\"请输入：\"))\n",
    "res = fact(n)\n",
    "print(res)"
   ]
  },
  {
   "cell_type": "code",
   "execution_count": 2,
   "id": "14ea935c",
   "metadata": {},
   "outputs": [
    {
     "name": "stdout",
     "output_type": "stream",
     "text": [
      "3.0\n"
     ]
    }
   ],
   "source": [
    "# question 2\n",
    "import math\n",
    "print(math.pow(27, 1/3))"
   ]
  },
  {
   "cell_type": "code",
   "execution_count": null,
   "id": "50b1ee89",
   "metadata": {},
   "outputs": [],
   "source": [
    "# question 3\n",
    "coin = [2,2,2,2,2,2,1,2,2,2,2,2,2,2,2]\n",
    "def sum_(coin, start, end):\n",
    "    res = 0\n",
    "    for i in range(start, end + 1):\n",
    "        res += coin[i]\n",
    "    return res\n",
    "\n",
    "def binary_search(coin, start, end, key):\n",
    "    if start > end:\n",
    "        print(\"不存在\")\n",
    "        return -1\n",
    "    \n",
    "    mid = start + (end - start) // 2\n",
    "    sum1 = sum_(coin, start, mid - 1)\n",
    "    sum2 = sum_(coin, mid + 1, end)\n",
    "    \n",
    "    if coin[mid] == key:\n",
    "        return mid\n",
    "    \n",
    "    if sum1 < sum2:\n",
    "        return binary_search(coin, start, mid -1, key)\n",
    "    elif sum1 > sum2:\n",
    "        return binary_search(coin, mid + 1, end, key)\n",
    "\n",
    "print(binary_search(coin, 0, 14, 1))"
   ]
  },
  {
   "cell_type": "code",
   "execution_count": 4,
   "id": "447960ee",
   "metadata": {},
   "outputs": [
    {
     "name": "stdout",
     "output_type": "stream",
     "text": [
      "11.81204376221653\n"
     ]
    }
   ],
   "source": [
    "import random\n",
    "import math\n",
    "def f(x):\n",
    "    return pow(x, 2) + 4 * x * math.sin(x)\n",
    "def g(x):\n",
    "    return (1 / (12.26 - f(3))) * (f(2 + x) - f(3)) \n",
    "\n",
    "S0 = 12.26 - f(3)\n",
    "n = 1000000\n",
    "c = 0\n",
    "for i in range(n):\n",
    "    x = random.uniform(0, 1)\n",
    "    y = random.uniform(0, 1)\n",
    "    if y <= g(x):\n",
    "        c += 1\n",
    "res = c * S0 / n + f(3)\n",
    "print(res)"
   ]
  }
 ],
 "metadata": {
  "kernelspec": {
   "display_name": "Python 3 (ipykernel)",
   "language": "python",
   "name": "python3"
  },
  "language_info": {
   "codemirror_mode": {
    "name": "ipython",
    "version": 3
   },
   "file_extension": ".py",
   "mimetype": "text/x-python",
   "name": "python",
   "nbconvert_exporter": "python",
   "pygments_lexer": "ipython3",
   "version": "3.9.12"
  }
 },
 "nbformat": 4,
 "nbformat_minor": 5
}
