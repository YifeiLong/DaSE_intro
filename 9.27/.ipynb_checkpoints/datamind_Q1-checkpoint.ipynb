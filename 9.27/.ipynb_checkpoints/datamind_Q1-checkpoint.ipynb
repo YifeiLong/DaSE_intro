{
 "cells": [
  {
   "cell_type": "code",
   "execution_count": 1,
   "id": "d12576f2",
   "metadata": {},
   "outputs": [
    {
     "name": "stdout",
     "output_type": "stream",
     "text": [
      "0.584536\n"
     ]
    }
   ],
   "source": [
    "import random\n",
    "import math\n",
    "\n",
    "def f(x):\n",
    "    return pow(x, 2) + pow(x, 3)\n",
    "\n",
    "def g(x):\n",
    "    return (1 / f(1)) * f(x)\n",
    "\n",
    "s0 = f(1)\n",
    "n = 1000000\n",
    "c = 0\n",
    "for i in range(n): \n",
    "    x = random.uniform(0, 1)\n",
    "    y = random.uniform(0, 1) \n",
    "    if y <= g(x): \n",
    "        c += 1\n",
    "res = s0 / n * c\n",
    "print(res)"
   ]
  }
 ],
 "metadata": {
  "kernelspec": {
   "display_name": "Python 3 (ipykernel)",
   "language": "python",
   "name": "python3"
  },
  "language_info": {
   "codemirror_mode": {
    "name": "ipython",
    "version": 3
   },
   "file_extension": ".py",
   "mimetype": "text/x-python",
   "name": "python",
   "nbconvert_exporter": "python",
   "pygments_lexer": "ipython3",
   "version": "3.9.12"
  }
 },
 "nbformat": 4,
 "nbformat_minor": 5
}
