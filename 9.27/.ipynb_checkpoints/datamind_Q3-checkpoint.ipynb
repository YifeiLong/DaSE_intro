{
 "cells": [
  {
   "cell_type": "code",
   "execution_count": 2,
   "id": "18f005a4",
   "metadata": {},
   "outputs": [
    {
     "name": "stdout",
     "output_type": "stream",
     "text": [
      "500000 3.999996000004324e-06\n"
     ]
    }
   ],
   "source": [
    "import math\n",
    "# 级数逼近\n",
    "res = 0\n",
    "item = 1\n",
    "i = 0\n",
    "while abs(item) >= 1e-6:\n",
    "    res += item\n",
    "    i += 1\n",
    "    item *= -(2*i-1) / (2*i+1)\n",
    "item *= 4\n",
    "print(i, item)"
   ]
  }
 ],
 "metadata": {
  "kernelspec": {
   "display_name": "Python 3 (ipykernel)",
   "language": "python",
   "name": "python3"
  },
  "language_info": {
   "codemirror_mode": {
    "name": "ipython",
    "version": 3
   },
   "file_extension": ".py",
   "mimetype": "text/x-python",
   "name": "python",
   "nbconvert_exporter": "python",
   "pygments_lexer": "ipython3",
   "version": "3.9.12"
  }
 },
 "nbformat": 4,
 "nbformat_minor": 5
}
