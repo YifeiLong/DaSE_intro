{
 "cells": [
  {
   "cell_type": "code",
   "execution_count": 15,
   "id": "957616eb",
   "metadata": {},
   "outputs": [
    {
     "name": "stdout",
     "output_type": "stream",
     "text": [
      "4\n"
     ]
    }
   ],
   "source": [
    "#a = input(\"请输入：\")\n",
    "# 字符串是一个数组\n",
    "a = \"abccccda\"\n",
    "l = len(a)\n",
    "letter = a[0]\n",
    "maxlen = 0\n",
    "t = 1\n",
    "i = 0\n",
    "j = 0\n",
    "for i in range(l):\n",
    "    for j in range(i + 1, l):\n",
    "        if a[j] == a[i]:\n",
    "            t = t + 1\n",
    "            if t > maxlen:\n",
    "                letter = a[i]\n",
    "                maxlen = t\n",
    "        else:\n",
    "            t = 1\n",
    "            break\n",
    "    if j == l - 1:\n",
    "        break\n",
    "print(maxlen)"
   ]
  }
 ],
 "metadata": {
  "kernelspec": {
   "display_name": "Python 3 (ipykernel)",
   "language": "python",
   "name": "python3"
  },
  "language_info": {
   "codemirror_mode": {
    "name": "ipython",
    "version": 3
   },
   "file_extension": ".py",
   "mimetype": "text/x-python",
   "name": "python",
   "nbconvert_exporter": "python",
   "pygments_lexer": "ipython3",
   "version": "3.9.12"
  }
 },
 "nbformat": 4,
 "nbformat_minor": 5
}
