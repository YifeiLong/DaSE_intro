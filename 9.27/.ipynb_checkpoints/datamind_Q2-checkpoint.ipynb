{
 "cells": [
  {
   "cell_type": "code",
   "execution_count": 2,
   "id": "69fd482b",
   "metadata": {},
   "outputs": [
    {
     "name": "stdout",
     "output_type": "stream",
     "text": [
      "41418 9.49275923256554e-05 1.4141800000027134\n"
     ]
    }
   ],
   "source": [
    "import math\n",
    "# 方法一\n",
    "c = 2\n",
    "g1 = 1\n",
    "diff = c - pow(g1, 2)\n",
    "step = 0\n",
    "while diff >= 0.0001:\n",
    "    g1 += 0.00001\n",
    "    diff = c - pow(g1, 2)\n",
    "    step += 1\n",
    "print(step, diff, g1)"
   ]
  },
  {
   "cell_type": "code",
   "execution_count": 4,
   "id": "09b3097f",
   "metadata": {},
   "outputs": [
    {
     "name": "stdout",
     "output_type": "stream",
     "text": [
      "36 9.61430934864893e-12 1.4142135623696959\n"
     ]
    }
   ],
   "source": [
    "# 方法二\n",
    "c = 2\n",
    "min_ = 0\n",
    "max_ = c\n",
    "g = (min_ + max_) / 2\n",
    "diff = c - pow(g, 2) \n",
    "step = 0\n",
    "while abs(diff) >= 0.00000000001:\n",
    "    if diff > 0:\n",
    "        min_ = g\n",
    "        g = (min_ + max_) / 2\n",
    "        diff = c - pow(g, 2)\n",
    "        step += 1\n",
    "    else:\n",
    "        max_ = g\n",
    "        g = (min_ + max_) / 2\n",
    "        diff = c - pow(g, 2)\n",
    "        step += 1\n",
    "print(step, diff, g)"
   ]
  },
  {
   "cell_type": "code",
   "execution_count": 6,
   "id": "e7cf4c1c",
   "metadata": {},
   "outputs": [
    {
     "name": "stdout",
     "output_type": "stream",
     "text": [
      "4 4.510614104447086e-12 1.4142135623746899\n"
     ]
    }
   ],
   "source": [
    "# 方法三\n",
    "c = 2\n",
    "g = c / 2\n",
    "diff = pow(g, 2) - c\n",
    "step = 0\n",
    "while abs(diff) >=0.00000000001:\n",
    "    g = (g + (c / g)) / 2\n",
    "    step += 1\n",
    "    diff = pow(g, 2) - c\n",
    "print(step, diff, g)"
   ]
  }
 ],
 "metadata": {
  "kernelspec": {
   "display_name": "Python 3 (ipykernel)",
   "language": "python",
   "name": "python3"
  },
  "language_info": {
   "codemirror_mode": {
    "name": "ipython",
    "version": 3
   },
   "file_extension": ".py",
   "mimetype": "text/x-python",
   "name": "python",
   "nbconvert_exporter": "python",
   "pygments_lexer": "ipython3",
   "version": "3.9.12"
  }
 },
 "nbformat": 4,
 "nbformat_minor": 5
}
