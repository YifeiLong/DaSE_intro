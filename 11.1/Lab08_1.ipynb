{
 "cells": [
  {
   "cell_type": "code",
   "execution_count": 1,
   "id": "c737fdc1",
   "metadata": {},
   "outputs": [],
   "source": [
    "import pymysql\n",
    "import numpy as np\n",
    "\n",
    "db = pymysql.connect(host = \"cdb-r2g8flnu.bj.tencentcdb.com\", port = 10209, user = \"dase2020\", password = \"dase2020\", database = \"dase_intro_2020\")\n",
    "cursor = db.cursor()  # 使用 cursor() 方法创建一个游标对象 cursor,执行SQL语句都是通过游标对象实现\n",
    "\n",
    "# sql = \"SELECT VERSION();\"  # 该SQL语句返回MySQL的安装版本，用以确定是否成功连接服务器\n",
    "\n",
    "# cursor.execute(sql)  # 执行SQL语句\n",
    "# result = cursor.fetchone()  # 获取单条数据\n",
    "# print(result)"
   ]
  },
  {
   "cell_type": "code",
   "execution_count": 2,
   "id": "95431b84",
   "metadata": {},
   "outputs": [
    {
     "name": "stdout",
     "output_type": "stream",
     "text": [
      "编号 城市 小时 工作日 大气温度 体感温度 天气 风速 单车租借量\n",
      " 18   1  17   1   8   4   1   2  75 \n",
      " 19   1   1   1  18  19   1   3   5 \n",
      " 20   1   7   0  23  25   2   1  13 \n",
      " 21   0   9   0  25  27   1   0  67 \n",
      " 22   0  16   1  11  11   3   2  76 \n"
     ]
    }
   ],
   "source": [
    "# 从第18条记录开始的5条记录\n",
    "sql = \"SELECT * FROM bicycle_train LIMIT 17, 5;\"\n",
    "cursor.execute(sql)\n",
    "result = cursor.fetchall() #获取单条数据\n",
    "print('编号 城市 小时 工作日 大气温度 体感温度 天气 风速 单车租借量')\n",
    "# 自动循环，行 -> 列\n",
    "for record in result:\n",
    "    for element in record:\n",
    "        print(\"%3d\" %element, end = ' ')\n",
    "    print() #一组数据换行"
   ]
  },
  {
   "cell_type": "code",
   "execution_count": 3,
   "id": "453b2bcf",
   "metadata": {},
   "outputs": [
    {
     "name": "stdout",
     "output_type": "stream",
     "text": [
      "风速最小值为0 风速最大值为7\n"
     ]
    }
   ],
   "source": [
    "# 数据表中wind取值范围\n",
    "sql = \"SELECT DISTINCT wind FROM bicycle_train ORDER BY wind;\"\n",
    "cursor.execute(sql)\n",
    "result = cursor.fetchall() # 默认返回二维tuple\n",
    "print(\"风速最小值为%d 风速最大值为%d\" % (result[0][0], result[-1][0]))"
   ]
  },
  {
   "cell_type": "code",
   "execution_count": 4,
   "id": "43679e36",
   "metadata": {},
   "outputs": [
    {
     "name": "stdout",
     "output_type": "stream",
     "text": [
      "20.6\n"
     ]
    }
   ],
   "source": [
    "# 满足城市为北京市，10时，晴天，无风或1级风，租用单车数量不小于100条件下大气温度的平均值\n",
    "sql = \"SELECT AVG(temp_air) FROM bicycle_train WHERE city = 0 AND hour = 10 AND weather = 1 AND wind BETWEEN 0 AND 1 AND y >= 100;\"\n",
    "cursor.execute(sql)\n",
    "# result = cursor.fetchall()\n",
    "# print(\"%.1f\" %result[0])\n",
    "result = cursor.fetchone() #只获取一行\n",
    "print(\"%.1f\" %result)"
   ]
  },
  {
   "cell_type": "code",
   "execution_count": 5,
   "id": "4dcef297",
   "metadata": {},
   "outputs": [
    {
     "name": "stdout",
     "output_type": "stream",
     "text": [
      "37.64\n"
     ]
    }
   ],
   "source": [
    "# 满足城市为北京市，10时，晴天，无风或1级风，租用单车数量不小于100条件下大气温度的方差\n",
    "sql = \"SELECT temp_air FROM bicycle_train WHERE city = 0 AND hour = 10 AND weather = 1 AND wind BETWEEN 0 AND 1 AND y >= 100;\"\n",
    "cursor.execute(sql)\n",
    "result = cursor.fetchall()\n",
    "air = []\n",
    "for item in result:\n",
    "    air.append(item[0])\n",
    "air = np.array(air)\n",
    "mean_air = np.mean(air)\n",
    "var_air = (sum((air - mean_air) ** 2)) / len(air)\n",
    "print(var_air)"
   ]
  },
  {
   "cell_type": "code",
   "execution_count": 6,
   "id": "b29031b8",
   "metadata": {},
   "outputs": [
    {
     "name": "stdout",
     "output_type": "stream",
     "text": [
      "上海:9106\n",
      "北京:8084\n"
     ]
    }
   ],
   "source": [
    "# 分城市显示工作日雨雪天单车租用总量，并降序排序\n",
    "# 默认升序排序\n",
    "sql = \"SELECT city, SUM(y) FROM bicycle_train WHERE is_workday = 1 AND weather = 3 GROUP BY city ORDER BY SUM(y) DESC;\"\n",
    "cursor.execute(sql)\n",
    "result = cursor.fetchall()\n",
    "city_dict = {0: '北京', 1: '上海'} # 方便输出城市名称\n",
    "for num in result:\n",
    "    print(\"%s:%d\" % (city_dict[num[0]], num[1]))"
   ]
  },
  {
   "cell_type": "code",
   "execution_count": 7,
   "id": "9806ae97",
   "metadata": {},
   "outputs": [
    {
     "name": "stdout",
     "output_type": "stream",
     "text": [
      "19时：42辆\n",
      "18时：63辆\n",
      "17时：65辆\n"
     ]
    }
   ],
   "source": [
    "# 分别查询17时至19时每小时上海市在工作日且体感温度不大于10摄氏度时租用单车的平均值（四舍五入至整数），并且结果按升序排序\n",
    "sql = \"SELECT hour, AVG(y) FROM bicycle_train WHERE is_workday = 1 AND temp_body <= 10 AND city = 1 AND hour BETWEEN 17 AND 19 GROUP BY hour ORDER BY AVG(y);\"\n",
    "cursor.execute(sql)\n",
    "result = cursor.fetchall()\n",
    "for item in result:\n",
    "    print(\"%d时：%d辆\" %(item[0], round(item[1])))"
   ]
  }
 ],
 "metadata": {
  "kernelspec": {
   "display_name": "Python 3 (ipykernel)",
   "language": "python",
   "name": "python3"
  },
  "language_info": {
   "codemirror_mode": {
    "name": "ipython",
    "version": 3
   },
   "file_extension": ".py",
   "mimetype": "text/x-python",
   "name": "python",
   "nbconvert_exporter": "python",
   "pygments_lexer": "ipython3",
   "version": "3.9.12"
  }
 },
 "nbformat": 4,
 "nbformat_minor": 5
}
